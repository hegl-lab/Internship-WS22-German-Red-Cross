{
 "cells": [
  {
   "cell_type": "code",
   "execution_count": 232,
   "id": "8081a057",
   "metadata": {},
   "outputs": [],
   "source": [
    "from bertopic import BERTopic\n",
    "import pandas as pd\n",
    "import nltk\n",
    "import numpy as np\n",
    "import re\n",
    "import os\n",
    "import string\n",
    "import spacy\n",
    "import torch\n",
    "from bertopic import BERTopic\n",
    "from collections import Counter\n",
    "from nltk.corpus import stopwords\n",
    "import en_core_web_sm\n",
    "from sklearn.feature_extraction.text import TfidfVectorizer\n",
    "from sentence_transformers import SentenceTransformer\n",
    "from transformers.pipelines import pipeline\n",
    "from flair.embeddings import TransformerWordEmbeddings\n",
    "from flair.embeddings import TransformerDocumentEmbeddings\n",
    "from transformers import BertModel, BertTokenizer\n",
    "from sklearn.cluster import KMeans\n",
    "from sklearn.decomposition import PCA\n",
    "from sklearn.metrics.pairwise import cosine_similarity\n",
    "import matplotlib.pyplot as plt\n",
    "from sklearn import svm\n",
    "from sklearn.metrics.pairwise import cosine_similarity"
   ]
  },
  {
   "cell_type": "code",
   "execution_count": null,
   "id": "9b840183",
   "metadata": {},
   "outputs": [],
   "source": [
    "df_grk = pd.read_csv(r\"C:\\Users\\samer\\Documents\\university\\scraped.csv\")\n",
    "texts_ = df_grk.text.tolist()[:200]\n",
    "df_grk.head(2)"
   ]
  },
  {
   "cell_type": "code",
   "execution_count": 140,
   "id": "a5137628",
   "metadata": {},
   "outputs": [
    {
     "data": {
      "text/plain": [
       "1000"
      ]
     },
     "execution_count": 140,
     "metadata": {},
     "output_type": "execute_result"
    }
   ],
   "source": [
    "len(texts_)"
   ]
  },
  {
   "cell_type": "markdown",
   "id": "a4cb731c",
   "metadata": {},
   "source": [
    "## creat embeddings"
   ]
  },
  {
   "cell_type": "code",
   "execution_count": 39,
   "id": "75938016",
   "metadata": {},
   "outputs": [
    {
     "data": {
      "application/vnd.jupyter.widget-view+json": {
       "model_id": "0cd432c4c6de4066a1f2ed5e017cdf4e",
       "version_major": 2,
       "version_minor": 0
      },
      "text/plain": [
       "Downloading:   0%|          | 0.00/433 [00:00<?, ?B/s]"
      ]
     },
     "metadata": {},
     "output_type": "display_data"
    },
    {
     "data": {
      "application/vnd.jupyter.widget-view+json": {
       "model_id": "daceed45d39f4471904d14a6b9586e6d",
       "version_major": 2,
       "version_minor": 0
      },
      "text/plain": [
       "Downloading:   0%|          | 0.00/439M [00:00<?, ?B/s]"
      ]
     },
     "metadata": {},
     "output_type": "display_data"
    },
    {
     "data": {
      "application/vnd.jupyter.widget-view+json": {
       "model_id": "b24d1f7883cb4e9998350f3221de1aff",
       "version_major": 2,
       "version_minor": 0
      },
      "text/plain": [
       "Downloading:   0%|          | 0.00/255k [00:00<?, ?B/s]"
      ]
     },
     "metadata": {},
     "output_type": "display_data"
    },
    {
     "data": {
      "application/vnd.jupyter.widget-view+json": {
       "model_id": "997ed8e1ffb240c785845eba3a467503",
       "version_major": 2,
       "version_minor": 0
      },
      "text/plain": [
       "Downloading:   0%|          | 0.00/29.0 [00:00<?, ?B/s]"
      ]
     },
     "metadata": {},
     "output_type": "display_data"
    }
   ],
   "source": [
    "pre_trained_bert = BertModel.from_pretrained(\"bert-base-german-cased\")\n",
    "tokenizer_gottbert = BertTokenizer.from_pretrained(\"bert-base-german-cased\")"
   ]
  },
  {
   "cell_type": "code",
   "execution_count": 92,
   "id": "224e15fb",
   "metadata": {},
   "outputs": [],
   "source": [
    "tokenized_texts = tokenizer_gottbert(texts_, truncation=True, padding=True)"
   ]
  },
  {
   "cell_type": "code",
   "execution_count": 74,
   "id": "f7185e11",
   "metadata": {},
   "outputs": [
    {
     "name": "stdout",
     "output_type": "stream",
     "text": [
      "evaluation mode\n"
     ]
    }
   ],
   "source": [
    "pre_trained_bert.eval()\n",
    "print(\"evaluation mode\")"
   ]
  },
  {
   "cell_type": "code",
   "execution_count": null,
   "id": "007d7b34",
   "metadata": {},
   "outputs": [],
   "source": [
    "tokens_tensor = torch.tensor(tokenized_texts['input_ids'])\n",
    "segments_tensors = torch.tensor(tokenized_texts['attention_mask'])\n",
    "\n",
    "total_embeddings = []\n",
    "for input_id_ , segment_tensor_ in zip(tokens_tensor,segments_tensors):\n",
    "\n",
    "\n",
    "    # Predict hidden states features for each layer\n",
    "    with torch.no_grad():\n",
    "        output = pre_trained_bert(input_id_.unsqueeze(0), segment_tensor_.unsqueeze(0))\n",
    "\n",
    "    # Concatenate the tensors for all layers. We use `stack` here to\n",
    "    # create a new dimension in the tensor.\n",
    "    token_embeddings = torch.stack(tuple(output[0]), dim=0)\n",
    "\n",
    "    # Remove dimension 1, the \"batches\".\n",
    "    token_embeddings = torch.squeeze(token_embeddings, dim=1)\n",
    "\n",
    "    # Swap dimensions 0 and 1.\n",
    "    token_embeddings = token_embeddings.permute(1,0,2)\n",
    "\n",
    "    total_embeddings.append(token_embeddings)"
   ]
  },
  {
   "cell_type": "code",
   "execution_count": 138,
   "id": "dc3d9643",
   "metadata": {},
   "outputs": [],
   "source": [
    "### sentence vector:\n",
    "sentence_embeddings = []\n",
    "for embedidng_ in total_embeddings:\n",
    "    \n",
    "    sentence_embedding = torch.mean(embedidng_, dim=0)\n",
    "    \n",
    "    sentence_embeddings.append(sentence_embedding.detach().numpy()[0])\n",
    "\n",
    "sentence_embeddings = np.asarray(sentence_embeddings)"
   ]
  },
  {
   "cell_type": "markdown",
   "id": "1971f395",
   "metadata": {},
   "source": [
    "# use Bertopic"
   ]
  },
  {
   "cell_type": "code",
   "execution_count": 143,
   "id": "9ae2b8f8",
   "metadata": {},
   "outputs": [],
   "source": [
    "topic_model = BERTopic()                                              # the text embeddings\n",
    "topics, probs = topic_model.fit_transform('TEXT YOU EMBEDDED ORIGINAL', sentence_embeddings)\n"
   ]
  },
  {
   "cell_type": "code",
   "execution_count": 155,
   "id": "4bdb6999",
   "metadata": {},
   "outputs": [],
   "source": [
    "def get_similar_text_by_Bert_top_cluster(texts, topic_num):\n",
    "    topic_num_1 = [idx for idx, i in enumerate(list(topic_model.topics_)) if i==top_num]\n",
    "    top_1_texts = map(texts.__getitem__, topic_num_1)\n",
    "    top_1_texts = list(top_1_texts)\n",
    "    return top_1_texts\n",
    "\n",
    "get_similar_text_by_Bert_top_cluster(texts_, 2)"
   ]
  },
  {
   "cell_type": "code",
   "execution_count": 228,
   "id": "50cbd007",
   "metadata": {},
   "outputs": [],
   "source": [
    "def get_similar_documents(sentence_embeddings,n_doc, source_sentence_idx=None):\n",
    "    \n",
    "    if(source_sentence_idx == None):\n",
    "        raise Exception(\"you must set source_sentence_idx to index of text you want to examine\")\n",
    "    \n",
    "    indices_list = []\n",
    "    similarity_values = []\n",
    "    for i in range(len(sentence_embeddings)):\n",
    "        if(i == source_sentence_idx):\n",
    "            continue\n",
    "        val_ = cosine_similarity([sentence_embeddings[source_sentence_idx]], [sentence_embeddings[i]])[0][0]\n",
    "        \n",
    "        indices_list.append(i)\n",
    "        similarity_values.append(val_)\n",
    "    \n",
    "    df_temp = pd.DataFrame(similarity_values, index=indices_list, columns=[\"cosine_values\"])\n",
    "    df_temp = df_temp.sort_values(\"cosine_values\", ascending=False)\n",
    "    return df_temp.head(n_doc)\n",
    "    "
   ]
  },
  {
   "cell_type": "code",
   "execution_count": 234,
   "id": "7d619e44",
   "metadata": {},
   "outputs": [
    {
     "data": {
      "text/html": [
       "<div>\n",
       "<style scoped>\n",
       "    .dataframe tbody tr th:only-of-type {\n",
       "        vertical-align: middle;\n",
       "    }\n",
       "\n",
       "    .dataframe tbody tr th {\n",
       "        vertical-align: top;\n",
       "    }\n",
       "\n",
       "    .dataframe thead th {\n",
       "        text-align: right;\n",
       "    }\n",
       "</style>\n",
       "<table border=\"1\" class=\"dataframe\">\n",
       "  <thead>\n",
       "    <tr style=\"text-align: right;\">\n",
       "      <th></th>\n",
       "      <th>cosine_values</th>\n",
       "    </tr>\n",
       "  </thead>\n",
       "  <tbody>\n",
       "    <tr>\n",
       "      <th>200</th>\n",
       "      <td>0.963634</td>\n",
       "    </tr>\n",
       "    <tr>\n",
       "      <th>922</th>\n",
       "      <td>0.939800</td>\n",
       "    </tr>\n",
       "    <tr>\n",
       "      <th>483</th>\n",
       "      <td>0.937079</td>\n",
       "    </tr>\n",
       "    <tr>\n",
       "      <th>20</th>\n",
       "      <td>0.936949</td>\n",
       "    </tr>\n",
       "    <tr>\n",
       "      <th>342</th>\n",
       "      <td>0.936091</td>\n",
       "    </tr>\n",
       "    <tr>\n",
       "      <th>933</th>\n",
       "      <td>0.936091</td>\n",
       "    </tr>\n",
       "    <tr>\n",
       "      <th>498</th>\n",
       "      <td>0.933694</td>\n",
       "    </tr>\n",
       "    <tr>\n",
       "      <th>926</th>\n",
       "      <td>0.933622</td>\n",
       "    </tr>\n",
       "    <tr>\n",
       "      <th>635</th>\n",
       "      <td>0.933205</td>\n",
       "    </tr>\n",
       "    <tr>\n",
       "      <th>515</th>\n",
       "      <td>0.931992</td>\n",
       "    </tr>\n",
       "  </tbody>\n",
       "</table>\n",
       "</div>"
      ],
      "text/plain": [
       "     cosine_values\n",
       "200       0.963634\n",
       "922       0.939800\n",
       "483       0.937079\n",
       "20        0.936949\n",
       "342       0.936091\n",
       "933       0.936091\n",
       "498       0.933694\n",
       "926       0.933622\n",
       "635       0.933205\n",
       "515       0.931992"
      ]
     },
     "execution_count": 234,
     "metadata": {},
     "output_type": "execute_result"
    }
   ],
   "source": [
    "df_temp = get_similar_documents(np.asarray(sentence_embeddings),10, 4)\n",
    "\n",
    "## the cosine value is \"the distance\" between two texts,\n",
    "## the index number, refers to index in the text list, which holds the text similar to pur source text\n",
    "df_temp"
   ]
  },
  {
   "cell_type": "markdown",
   "id": "6aa73a4f",
   "metadata": {},
   "source": [
    "#### with cosine similar, it linked the 4th text in text_ as the most similar to text 200\n",
    "#### as we see both are about the same topic, which is erste hilfe Ausbildung/Fortbildung"
   ]
  },
  {
   "cell_type": "code",
   "execution_count": 225,
   "id": "2a44b98d",
   "metadata": {},
   "outputs": [
    {
     "data": {
      "text/plain": [
       "'Diese Ausbildung wird gemäß der Unfallverhütungsvorschrift \"Erste Hilfe\" (BGV-A1) durchgeführt und umfasst einen Tag 9 Unterrichtsstunden (UE) a 45 Minuten.\\n\\nDie Erste Hilfe Grundausbildung wird anerkannt für:\\n\\nDie Kosten für die Ersthelferausbildung in Firmen übernimmt grundsätzlich die zuständige Berufsgenossenschaft oder Unfallkasse.\\n\\nFür die unbedingte Anmeldung und Rückfragen stehen Ihnen die Mitarbeiter im Rot Kreuz Zentrum (Geschäftsstelle) unter (03663) 421124 ; (03663) 421125 oder (03663) 42110 zur Verfügung.'"
      ]
     },
     "execution_count": 225,
     "metadata": {},
     "output_type": "execute_result"
    }
   ],
   "source": [
    "texts_[4]"
   ]
  },
  {
   "cell_type": "code",
   "execution_count": 231,
   "id": "44abe048",
   "metadata": {},
   "outputs": [
    {
     "data": {
      "text/plain": [
       "'Leben retten muss man üben!\\n\\nIn diesem Lehrgang können Sie Ihre Erste Hilfe Kenntnisse auffrischen. \\n\\nNur so sind Sie fit für den Notfall.\\n\\nDieser Lehrgang gilt als Fortbildungslehrgang für betriebliche Ersthelfer (BGV A1§). Voraussetzung ist die Absolvierung einer Grundausbildung in Erster-Hilfe (9 Unterrichtsstunden).\\n\\nAber auch alle, die mal wieder ihre Erste Hilfe Kenntnisse auffrischen wollen, sind herzlich willkommen.\\n\\nDie Fortbildung sollte innerhalb von 2 Jahren nach der Grundausbildung, oder der letzten Fortbildung erfolgen. Die Kosten übernimmt für Firmen grundsätzlich die zuständige Berufsgenossenschaft oder die Unfallkasse.\\n• Wiederholung und Vertiefung der Kenntnisse aus dem Erste Hilfe Kurs\\n• \"Fragestunde\" um das Thema Erste Hilfe\\n\\nWir bieten dieses Ausbildungsprogramm nach Wunsch auch für geschlossene Gruppen ab mindestens 10 Teilnehmern an. Rufen Sie uns an, wir freuen uns auf Ihren Anruf!\\n\\n40,- Euro für alle Selbstzahler, welche bei Kursbeginn zu verrichten sind.\\n\\nDie Lehrgangskosten für alle Betriebshelfer werden von den zuständigen Berufsgenossenschaften (gemäß § 7 Abs. 2 der BGV A1) übernommen.\\n\\nIm Rahmen der Qualitätssicherung achten wir auch auf die Rahmenbedingungen unserer Lehrgänge. Aus diesem Grund ist die Teilnehmerzahl pro Kurs begrenzt.\\n\\nFür die unbedingte Anmeldung und Rückfragen stehen Ihnen die Mitarbeiter im Rot Kreuz Zentrum (Geschäftsstelle) unter (03663) 421124 oder (03663) 421125 zur Verfügung.'"
      ]
     },
     "execution_count": 231,
     "metadata": {},
     "output_type": "execute_result"
    }
   ],
   "source": [
    "texts_[200]"
   ]
  },
  {
   "cell_type": "markdown",
   "id": "418228d1",
   "metadata": {},
   "source": [
    " "
   ]
  },
  {
   "cell_type": "markdown",
   "id": "812bb477",
   "metadata": {},
   "source": [
    "## kmeans"
   ]
  },
  {
   "cell_type": "code",
   "execution_count": 235,
   "id": "3e2f9c7b",
   "metadata": {},
   "outputs": [],
   "source": [
    "####  we tried to plot the Kmean clustering on the sentence embeddings we create above."
   ]
  },
  {
   "cell_type": "code",
   "execution_count": 197,
   "id": "2b0c7a28",
   "metadata": {},
   "outputs": [
    {
     "data": {
      "text/plain": [
       "<matplotlib.collections.PathCollection at 0x2b88a3af7f0>"
      ]
     },
     "execution_count": 197,
     "metadata": {},
     "output_type": "execute_result"
    },
    {
     "data": {
      "image/png": "[encoded data removed]",
      "text/plain": [
       "<Figure size 432x288 with 1 Axes>"
      ]
     },
     "metadata": {
      "needs_background": "light"
     },
     "output_type": "display_data"
    }
   ],
   "source": [
    "cluster_model_1 = KMeans(n_clusters=4) ## using kmean cluster, to create 5 clusters\n",
    "\n",
    "# feed the sentence embedding into the clustering model\n",
    "cluster_model_1.fit(np.asarray(sentence_embeddings))\n",
    "\n",
    "# reduce the features to 2D\n",
    "pca = PCA(n_components=2, random_state=42)\n",
    "reduced_features_1 = pca.fit_transform(np.asarray(sentence_embeddings))\n",
    "\n",
    "# reduce the cluster centers to 2D\n",
    "reduced_cluster_centers_1 = pca.transform(cluster_model_1.cluster_centers_)\n",
    "predict_cluster = cluster_model_1.predict(np.asarray(sentence_embeddings))\n",
    "## plot clustering\n",
    "plt.scatter(reduced_features_1[:,0], reduced_features_1[:,1], c=predict_cluster) #\n",
    "plt.scatter(reduced_cluster_centers_1[:, 0], reduced_cluster_centers_1[:,1], marker='x', s=150, c='b')"
   ]
  },
  {
   "cell_type": "code",
   "execution_count": null,
   "id": "7b8f2dd7",
   "metadata": {},
   "outputs": [],
   "source": []
  }
 ],
 "metadata": {
  "kernelspec": {
   "display_name": "Python 3 (ipykernel)",
   "language": "python",
   "name": "python3"
  },
  "language_info": {
   "codemirror_mode": {
    "name": "ipython",
    "version": 3
   },
   "file_extension": ".py",
   "mimetype": "text/x-python",
   "name": "python",
   "nbconvert_exporter": "python",
   "pygments_lexer": "ipython3",
   "version": "3.9.12"
  }
 },
 "nbformat": 4,
 "nbformat_minor": 5
}
